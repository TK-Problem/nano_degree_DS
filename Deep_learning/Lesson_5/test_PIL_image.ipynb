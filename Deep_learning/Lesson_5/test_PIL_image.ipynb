{
 "cells": [
  {
   "cell_type": "code",
   "execution_count": 1,
   "metadata": {},
   "outputs": [],
   "source": [
    "from PIL import Image\n",
    "import numpy as np\n",
    "%matplotlib inline"
   ]
  },
  {
   "cell_type": "code",
   "execution_count": 11,
   "metadata": {},
   "outputs": [],
   "source": [
    "test_image = \"test.png\"\n",
    "original = Image.open(test_image)\n",
    "original.show()"
   ]
  },
  {
   "cell_type": "code",
   "execution_count": 3,
   "metadata": {},
   "outputs": [],
   "source": [
    "width, height = original.size   # Get dimensions\n",
    "left = 16\n",
    "top = 16\n",
    "right = 224\n",
    "bottom = 224\n",
    "cropped_example = original.crop((left, top, right, bottom))\n",
    "\n",
    "cropped_example.show()"
   ]
  },
  {
   "cell_type": "code",
   "execution_count": 69,
   "metadata": {},
   "outputs": [],
   "source": [
    "def process_image(image):\n",
    "    ''' Scales, crops, and normalizes a PIL image for a PyTorch model,\n",
    "        returns an Numpy array\n",
    "    '''\n",
    "    np_image = np.array(image.resize((256,256)).crop((16, 16, 240, 240)))\n",
    "    # normalize to 1\n",
    "    np_image = np_image/255\n",
    "    # create means and STD arrays\n",
    "    means = np.array([[[0.485, 0.456, 0.406] for x in range(224)] for y in range(224)])\n",
    "    std   = np.array([[[0.229, 0.224, 0.225] for x in range(224)] for y in range(224)])\n",
    "    # substract means, divide by standard deviation and transpose final narray\n",
    "    return ((np_image - means) / std).transpose()"
   ]
  },
  {
   "cell_type": "code",
   "execution_count": 71,
   "metadata": {},
   "outputs": [
    {
     "data": {
      "text/plain": [
       "(3, 224, 224)"
      ]
     },
     "execution_count": 71,
     "metadata": {},
     "output_type": "execute_result"
    }
   ],
   "source": [
    "t = process_image(original)\n",
    "t.shape"
   ]
  },
  {
   "cell_type": "code",
   "execution_count": 59,
   "metadata": {},
   "outputs": [
    {
     "data": {
      "text/plain": [
       "array([[[0.5, 1. , 1.5],\n",
       "        [0.5, 1. , 1.5]],\n",
       "\n",
       "       [[0.5, 1. , 1.5],\n",
       "        [0.5, 1. , 1.5]]])"
      ]
     },
     "execution_count": 59,
     "metadata": {},
     "output_type": "execute_result"
    }
   ],
   "source": [
    "array1 = np.array([[[1,2,3],[1,2,3]],\n",
    "                   [[1,2,3],[1,2,3]]])\n",
    "\n",
    "array2 = np.array([[[10,20,3],[1,2,3]],\n",
    "                   [[1,2,3],[1,2,3]]])\n",
    "\n",
    "array1 / 2"
   ]
  },
  {
   "cell_type": "code",
   "execution_count": 64,
   "metadata": {},
   "outputs": [
    {
     "data": {
      "text/plain": [
       "(224, 224, 3)"
      ]
     },
     "execution_count": 64,
     "metadata": {},
     "output_type": "execute_result"
    }
   ],
   "source": [
    "t1 = np.array([[[0.485, 0.456, 0.406] for x in range(224)] for y in range(224)])\n",
    "t1.shape"
   ]
  },
  {
   "cell_type": "code",
   "execution_count": null,
   "metadata": {},
   "outputs": [],
   "source": []
  }
 ],
 "metadata": {
  "kernelspec": {
   "display_name": "Python 3",
   "language": "python",
   "name": "python3"
  },
  "language_info": {
   "codemirror_mode": {
    "name": "ipython",
    "version": 3
   },
   "file_extension": ".py",
   "mimetype": "text/x-python",
   "name": "python",
   "nbconvert_exporter": "python",
   "pygments_lexer": "ipython3",
   "version": "3.6.6"
  }
 },
 "nbformat": 4,
 "nbformat_minor": 2
}
