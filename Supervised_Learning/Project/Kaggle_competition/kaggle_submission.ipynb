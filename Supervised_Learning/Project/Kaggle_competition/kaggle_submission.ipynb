{
 "cells": [
  {
   "cell_type": "code",
   "execution_count": 16,
   "metadata": {},
   "outputs": [],
   "source": [
    "import numpy as np\n",
    "import pandas as pd\n",
    "\n",
    "%matplotlib inline"
   ]
  },
  {
   "cell_type": "markdown",
   "metadata": {},
   "source": [
    "# Import data"
   ]
  },
  {
   "cell_type": "code",
   "execution_count": 2,
   "metadata": {},
   "outputs": [],
   "source": [
    "train = pd.read_csv(\"census.csv\")\n",
    "\n",
    "# continous data\n",
    "num_cols = ['age', 'education-num', 'capital-gain',\n",
    "            'capital-loss', 'hours-per-week']\n",
    "\n",
    "# categorical data\n",
    "cat_cols = ['workclass', 'education_level', \n",
    "            'marital-status', 'occupation', \n",
    "            'relationship', 'race', \n",
    "            'sex', 'native-country']\n",
    "\n",
    "# need log transform\n",
    "log_transform_cols = ['capital-loss', 'capital-gain']"
   ]
  },
  {
   "cell_type": "markdown",
   "metadata": {},
   "source": [
    "# Functions used for pipeline"
   ]
  },
  {
   "cell_type": "code",
   "execution_count": 3,
   "metadata": {},
   "outputs": [],
   "source": [
    "# select the categorical columsn\n",
    "def get_cat_cols(X):\n",
    "    return X[cat_cols]\n",
    "\n",
    "# select the numerical columns\n",
    "def get_num_cols(X):\n",
    "    return X[num_cols]\n",
    "\n",
    "# select the columns that need log transform\n",
    "def get_log_transform_cols(X):\n",
    "    return X[log_transform_cols]\n",
    "\n",
    "# one-hot encode the categorical variables\n",
    "def get_dummies(X):\n",
    "    return pd.get_dummies(X)\n",
    "\n",
    "# imputer for empty values in categorical variables.\n",
    "# note: this is not optimal since we are not using the strategy from train in the test\n",
    "# sample. Not sure how to accomplish that.\n",
    "def cat_imputer(X):\n",
    "    return X.apply(lambda col: CategoricalImputer().fit_transform(col)) "
   ]
  },
  {
   "cell_type": "markdown",
   "metadata": {},
   "source": [
    "# Pipeline steps"
   ]
  },
  {
   "cell_type": "code",
   "execution_count": 17,
   "metadata": {},
   "outputs": [],
   "source": [
    "from sklearn.pipeline import Pipeline, FeatureUnion\n",
    "from sklearn.preprocessing import FunctionTransformer, MinMaxScaler, Imputer\n",
    "\n",
    "# log transform\n",
    "log_transform_pipeline = Pipeline([\n",
    " ('get_log_transform_cols', FunctionTransformer(get_log_transform_cols, validate=False)),\n",
    " ('imputer', Imputer(strategy='mean')),   \n",
    " ('log_transform', FunctionTransformer(np.log1p))\n",
    "])\n",
    "\n",
    "# for all the numerical cols fill null values with the mean of the column\n",
    "# and then apply scaling\n",
    "num_cols_pipeline = Pipeline([\n",
    " ('get_num_cols', FunctionTransformer(get_num_cols, validate=False)),\n",
    " ('imputer', Imputer(strategy='mean')),\n",
    " ('min_max_scaler', MinMaxScaler())\n",
    "])\n",
    "\n",
    "# for all the categorical cols, apply the categorical imputer function\n",
    "# from the sklearn_pandas library and then one-hot encode using the pandas\n",
    "# get_dummies function\n",
    "cat_cols_pipeline = Pipeline([\n",
    " ('get_cat_cols', FunctionTransformer(get_cat_cols, validate=False)),\n",
    " ('imputer', FunctionTransformer(cat_imputer, validate=False)),\n",
    " ('get_dummies', FunctionTransformer(get_dummies, validate=False))\n",
    "])"
   ]
  },
  {
   "cell_type": "markdown",
   "metadata": {},
   "source": [
    "# Combine pipeline steps"
   ]
  },
  {
   "cell_type": "code",
   "execution_count": 13,
   "metadata": {},
   "outputs": [],
   "source": [
    "steps_ = FeatureUnion([\n",
    "    ('log_transform', log_transform_pipeline),\n",
    "    ('num_cols', num_cols_pipeline),\n",
    "    ('cat_cols', cat_cols_pipeline)\n",
    "])\n",
    "\n",
    "# this full pipeline will apply the 3 previous steps\n",
    "full_pipeline = Pipeline([('steps_', steps_)])"
   ]
  },
  {
   "cell_type": "markdown",
   "metadata": {},
   "source": [
    "# Apply pipeline on training set"
   ]
  },
  {
   "cell_type": "code",
   "execution_count": 20,
   "metadata": {},
   "outputs": [],
   "source": [
    "from sklearn.model_selection import train_test_split\n",
    "from sklearn_pandas import CategoricalImputer\n",
    "\n",
    "# binarize the target variable\n",
    "y = train['income'].map({'<=50K': 0, '>50K': 1})\n",
    "\n",
    "# transform the entire training set.\n",
    "# this pipeline will be fitted to the training set\n",
    "# and the test set (for submission) only need to be transformed (not fitted)\n",
    "X = full_pipeline.fit_transform(train)\n",
    "\n",
    "# split the data\n",
    "X_train, X_test, y_train, y_test = train_test_split(X, y)"
   ]
  },
  {
   "cell_type": "markdown",
   "metadata": {},
   "source": [
    "# Train data using GradientBoosting\n",
    "\n",
    "Used values from Udacity project 1"
   ]
  },
  {
   "cell_type": "code",
   "execution_count": 22,
   "metadata": {},
   "outputs": [
    {
     "name": "stderr",
     "output_type": "stream",
     "text": [
      "C:\\Users\\Tomas\\PycharmProjects\\nano_degree_DS\\venv\\lib\\site-packages\\sklearn\\ensemble\\weight_boosting.py:29: DeprecationWarning: numpy.core.umath_tests is an internal NumPy module and should not be imported. It will be removed in a future NumPy release.\n",
      "  from numpy.core.umath_tests import inner1d\n"
     ]
    },
    {
     "data": {
      "text/plain": [
       "GradientBoostingClassifier(criterion='friedman_mse', init=None,\n",
       "              learning_rate=0.1, loss='deviance', max_depth=3,\n",
       "              max_features=None, max_leaf_nodes=None,\n",
       "              min_impurity_decrease=0.0, min_impurity_split=None,\n",
       "              min_samples_leaf=1, min_samples_split=2,\n",
       "              min_weight_fraction_leaf=0.0, n_estimators=400,\n",
       "              presort='auto', random_state=42, subsample=1.0, verbose=0,\n",
       "              warm_start=False)"
      ]
     },
     "execution_count": 22,
     "metadata": {},
     "output_type": "execute_result"
    }
   ],
   "source": [
    "from sklearn.ensemble import GradientBoostingClassifier\n",
    "\n",
    "model_GB = GradientBoostingClassifier(learning_rate=0.1,n_estimators=400,random_state = 42)\n",
    "model_GB.fit(X_train, y_train)"
   ]
  },
  {
   "cell_type": "markdown",
   "metadata": {},
   "source": [
    "# Score model"
   ]
  },
  {
   "cell_type": "code",
   "execution_count": 24,
   "metadata": {},
   "outputs": [
    {
     "name": "stdout",
     "output_type": "stream",
     "text": [
      "score train: 0.9375546674803292\n",
      "score test: 0.9231381860251591\n"
     ]
    }
   ],
   "source": [
    "from sklearn.metrics import roc_auc_score\n",
    "\n",
    "probs_train = model_GB.predict_proba(X_train)[:, 1]\n",
    "probs_test  = model_GB.predict_proba(X_test)[:, 1]\n",
    "print(\"score train: {}\".format(roc_auc_score(y_train, probs_train)))\n",
    "print(\"score test: {}\".format(roc_auc_score(y_test, probs_test)))"
   ]
  },
  {
   "cell_type": "markdown",
   "metadata": {},
   "source": [
    "# Apply model on submission data"
   ]
  },
  {
   "cell_type": "code",
   "execution_count": 41,
   "metadata": {},
   "outputs": [],
   "source": [
    "submission_data = pd.read_csv(\"test_census.csv\")\n",
    "\n",
    "# use the pipeline to transform\n",
    "X_sub = full_pipeline.transform(submission_data)\n",
    "\n",
    "# rename the first column to id\n",
    "submission_data['id'] = submission_data.iloc[:,0] \n",
    "\n",
    "# make predictions\n",
    "submission_data['income'] = model_GB.predict_proba(X_sub)[:, 1]\n",
    "\n",
    "# convert into discreate values\n",
    "submission_data['income'] = submission_data['income'].apply(lambda x: 1 if x >=0.5  else 0)\n",
    "\n",
    "# generate output file\n",
    "submission_data[['id', 'income']].to_csv(\"submission_GB.csv\", index=False)"
   ]
  },
  {
   "cell_type": "markdown",
   "metadata": {},
   "source": [
    "# save model"
   ]
  },
  {
   "cell_type": "code",
   "execution_count": 43,
   "metadata": {},
   "outputs": [],
   "source": [
    "from sklearn.externals import joblib\n",
    "\n",
    "filename = 'gradboost.joblib.pkl'\n",
    "_ = joblib.dump(model_GB, filename, compress=9)"
   ]
  },
  {
   "cell_type": "markdown",
   "metadata": {},
   "source": [
    "# load model"
   ]
  },
  {
   "cell_type": "code",
   "execution_count": 44,
   "metadata": {},
   "outputs": [
    {
     "data": {
      "text/plain": [
       "GradientBoostingClassifier(criterion='friedman_mse', init=None,\n",
       "              learning_rate=0.1, loss='deviance', max_depth=3,\n",
       "              max_features=None, max_leaf_nodes=None,\n",
       "              min_impurity_decrease=0.0, min_impurity_split=None,\n",
       "              min_samples_leaf=1, min_samples_split=2,\n",
       "              min_weight_fraction_leaf=0.0, n_estimators=400,\n",
       "              presort='auto', random_state=42, subsample=1.0, verbose=0,\n",
       "              warm_start=False)"
      ]
     },
     "execution_count": 44,
     "metadata": {},
     "output_type": "execute_result"
    }
   ],
   "source": [
    "load_model = joblib.load(filename)\n",
    "load_model"
   ]
  },
  {
   "cell_type": "code",
   "execution_count": null,
   "metadata": {},
   "outputs": [],
   "source": []
  }
 ],
 "metadata": {
  "kernelspec": {
   "display_name": "Python 3",
   "language": "python",
   "name": "python3"
  },
  "language_info": {
   "codemirror_mode": {
    "name": "ipython",
    "version": 3
   },
   "file_extension": ".py",
   "mimetype": "text/x-python",
   "name": "python",
   "nbconvert_exporter": "python",
   "pygments_lexer": "ipython3",
   "version": "3.7.0"
  }
 },
 "nbformat": 4,
 "nbformat_minor": 2
}
