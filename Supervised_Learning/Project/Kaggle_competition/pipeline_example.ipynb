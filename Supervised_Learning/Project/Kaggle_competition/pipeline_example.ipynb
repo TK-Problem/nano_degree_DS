{
 "cells": [
  {
   "cell_type": "markdown",
   "metadata": {},
   "source": [
    "# code taken from\n",
    "https://www.kaggle.com/pacuna/pipeline-example"
   ]
  },
  {
   "cell_type": "code",
   "execution_count": 4,
   "metadata": {},
   "outputs": [],
   "source": [
    "import pandas as pd\n",
    "import numpy as np\n",
    "from sklearn.pipeline import Pipeline, FeatureUnion\n",
    "from sklearn.preprocessing import FunctionTransformer, MinMaxScaler, Imputer\n",
    "from sklearn.model_selection import train_test_split\n",
    "from sklearn_pandas import CategoricalImputer\n",
    "from sklearn.ensemble import AdaBoostClassifier\n",
    "from sklearn.metrics import roc_auc_score"
   ]
  },
  {
   "cell_type": "markdown",
   "metadata": {},
   "source": [
    "# Read train data"
   ]
  },
  {
   "cell_type": "code",
   "execution_count": 6,
   "metadata": {},
   "outputs": [],
   "source": [
    "train = pd.read_csv(\"census.csv\")"
   ]
  },
  {
   "cell_type": "markdown",
   "metadata": {},
   "source": [
    "# Separate columns according to transformations to apply"
   ]
  },
  {
   "cell_type": "code",
   "execution_count": 7,
   "metadata": {},
   "outputs": [],
   "source": [
    "# numerical\n",
    "num_cols = ['age', 'education-num', 'capital-gain',\n",
    "            'capital-loss', 'hours-per-week']\n",
    "\n",
    "# categorical\n",
    "cat_cols = ['workclass', 'education_level', \n",
    "            'marital-status', 'occupation', \n",
    "            'relationship', 'race', \n",
    "            'sex', 'native-country']\n",
    "\n",
    "# need log transform\n",
    "log_transform_cols = ['capital-loss', 'capital-gain']"
   ]
  },
  {
   "cell_type": "markdown",
   "metadata": {},
   "source": [
    "# Functions used in the pipeline"
   ]
  },
  {
   "cell_type": "code",
   "execution_count": 8,
   "metadata": {},
   "outputs": [],
   "source": [
    "# select the categorical columsn\n",
    "def get_cat_cols(X):\n",
    "    return X[cat_cols]\n",
    "\n",
    "# select the numerical columns\n",
    "def get_num_cols(X):\n",
    "    return X[num_cols]\n",
    "\n",
    "# select the columns that need log transform\n",
    "def get_log_transform_cols(X):\n",
    "    return X[log_transform_cols]\n",
    "\n",
    "# one-hot encode the categorical variables\n",
    "def get_dummies(X):\n",
    "    return pd.get_dummies(X)\n",
    "\n",
    "# imputer for empty values in categorical variables.\n",
    "# note: this is not optimal since we are not using the strategy from train in the test\n",
    "# sample. Not sure how to accomplish that.\n",
    "def cat_imputer(X):\n",
    "    return X.apply(lambda col: CategoricalImputer().fit_transform(col)) "
   ]
  },
  {
   "cell_type": "markdown",
   "metadata": {},
   "source": [
    "# Pipeline steps"
   ]
  },
  {
   "cell_type": "code",
   "execution_count": 9,
   "metadata": {},
   "outputs": [],
   "source": [
    "# log transform\n",
    "log_transform_pipeline = Pipeline([\n",
    " ('get_log_transform_cols', FunctionTransformer(get_log_transform_cols, validate=False)),\n",
    " ('imputer', Imputer(strategy='mean')),   \n",
    " ('log_transform', FunctionTransformer(np.log1p))\n",
    "])\n",
    "\n",
    "# for all the numerical cols fill null values with the mean of the column\n",
    "# and then apply scaling\n",
    "num_cols_pipeline = Pipeline([\n",
    " ('get_num_cols', FunctionTransformer(get_num_cols, validate=False)),\n",
    " ('imputer', Imputer(strategy='mean')),\n",
    " ('min_max_scaler', MinMaxScaler())\n",
    "])\n",
    "\n",
    "# for all the categorical cols, apply the categorical imputer function\n",
    "# from the sklearn_pandas library and then one-hot encode using the pandas\n",
    "# get_dummies function\n",
    "cat_cols_pipeline = Pipeline([\n",
    " ('get_cat_cols', FunctionTransformer(get_cat_cols, validate=False)),\n",
    " ('imputer', FunctionTransformer(cat_imputer, validate=False)),\n",
    " ('get_dummies', FunctionTransformer(get_dummies, validate=False))\n",
    "])"
   ]
  },
  {
   "cell_type": "markdown",
   "metadata": {},
   "source": [
    "# Join pipeline steps"
   ]
  },
  {
   "cell_type": "code",
   "execution_count": 10,
   "metadata": {},
   "outputs": [],
   "source": [
    "steps_ = FeatureUnion([\n",
    "    ('log_transform', log_transform_pipeline),\n",
    "    ('num_cols', num_cols_pipeline),\n",
    "    ('cat_cols', cat_cols_pipeline)\n",
    "])\n",
    "\n",
    "# this full pipeline will apply the 3 previous steps\n",
    "full_pipeline = Pipeline([('steps_', steps_)])"
   ]
  },
  {
   "cell_type": "markdown",
   "metadata": {},
   "source": [
    "# Apply pipeline on training set¶"
   ]
  },
  {
   "cell_type": "code",
   "execution_count": 11,
   "metadata": {},
   "outputs": [],
   "source": [
    "# binarize the target variable\n",
    "y = train['income'].map({'<=50K': 0, '>50K': 1})\n",
    "\n",
    "# transform the entire training set.\n",
    "# this pipeline will be fitted to the training set\n",
    "# and the test set (for submission) only need to be transformed (not fitted)\n",
    "X = full_pipeline.fit_transform(train)\n",
    "\n",
    "# split the data\n",
    "X_train, X_test, y_train, y_test = train_test_split(X, y)"
   ]
  },
  {
   "cell_type": "markdown",
   "metadata": {},
   "source": [
    "# Train an Adaboost classifier"
   ]
  },
  {
   "cell_type": "code",
   "execution_count": 12,
   "metadata": {},
   "outputs": [
    {
     "data": {
      "text/plain": [
       "AdaBoostClassifier(algorithm='SAMME.R', base_estimator=None,\n",
       "          learning_rate=1.0, n_estimators=300, random_state=None)"
      ]
     },
     "execution_count": 12,
     "metadata": {},
     "output_type": "execute_result"
    }
   ],
   "source": [
    "clf = AdaBoostClassifier(n_estimators=300)\n",
    "clf.fit(X_train, y_train)"
   ]
  },
  {
   "cell_type": "markdown",
   "metadata": {},
   "source": [
    "# Score model"
   ]
  },
  {
   "cell_type": "code",
   "execution_count": 13,
   "metadata": {},
   "outputs": [
    {
     "name": "stdout",
     "output_type": "stream",
     "text": [
      "score train: 0.9273803785053004\n",
      "score test: 0.9195868805282364\n"
     ]
    }
   ],
   "source": [
    "probs_train = clf.predict_proba(X_train)[:, 1]\n",
    "probs_test = clf.predict_proba(X_test)[:, 1]\n",
    "print(\"score train: {}\".format(roc_auc_score(y_train, probs_train)))\n",
    "print(\"score test: {}\".format(roc_auc_score(y_test, probs_test)))"
   ]
  },
  {
   "cell_type": "markdown",
   "metadata": {},
   "source": [
    "# Extra: apply on submission set"
   ]
  },
  {
   "cell_type": "code",
   "execution_count": 16,
   "metadata": {},
   "outputs": [],
   "source": [
    "test = pd.read_csv(\"test_census.csv\")\n",
    "\n",
    "# use the pipeline to transform\n",
    "X_sub = full_pipeline.transform(test)\n",
    "\n",
    "# rename the first column to id\n",
    "test['id'] = test.iloc[:,0] \n",
    "\n",
    "# make predictions\n",
    "test['income'] = clf.predict_proba(X_sub)[:, 1]\n",
    "\n",
    "# generate output file\n",
    "test[['id', 'income']].to_csv(\"submission_example_pipeline.csv\", index=False)"
   ]
  },
  {
   "cell_type": "code",
   "execution_count": null,
   "metadata": {},
   "outputs": [],
   "source": []
  },
  {
   "cell_type": "code",
   "execution_count": null,
   "metadata": {},
   "outputs": [],
   "source": []
  },
  {
   "cell_type": "code",
   "execution_count": null,
   "metadata": {},
   "outputs": [],
   "source": []
  },
  {
   "cell_type": "code",
   "execution_count": null,
   "metadata": {},
   "outputs": [],
   "source": []
  }
 ],
 "metadata": {
  "kernelspec": {
   "display_name": "Python 3",
   "language": "python",
   "name": "python3"
  },
  "language_info": {
   "codemirror_mode": {
    "name": "ipython",
    "version": 3
   },
   "file_extension": ".py",
   "mimetype": "text/x-python",
   "name": "python",
   "nbconvert_exporter": "python",
   "pygments_lexer": "ipython3",
   "version": "3.6.6"
  }
 },
 "nbformat": 4,
 "nbformat_minor": 2
}
