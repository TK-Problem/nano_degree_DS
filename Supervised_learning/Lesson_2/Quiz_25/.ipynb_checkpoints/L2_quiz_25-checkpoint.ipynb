{
 "cells": [
  {
   "cell_type": "code",
   "execution_count": 5,
   "metadata": {},
   "outputs": [],
   "source": [
    "import pandas as pd\n",
    "from sklearn.preprocessing import PolynomialFeatures"
   ]
  },
  {
   "cell_type": "code",
   "execution_count": 13,
   "metadata": {},
   "outputs": [],
   "source": [
    "train_data = pd.read_csv(\"data.csv\")\n",
    "X = train_data['Var_X']\n",
    "y = train_data['Var_Y']"
   ]
  },
  {
   "cell_type": "code",
   "execution_count": 15,
   "metadata": {},
   "outputs": [],
   "source": [
    "poly_feat = PolynomialFeatures()\n",
    "# X_poly = poly_feat.fit_transform(X,y)"
   ]
  },
  {
   "cell_type": "code",
   "execution_count": 17,
   "metadata": {},
   "outputs": [
    {
     "data": {
      "text/plain": [
       "0      6.66854\n",
       "1      3.86398\n",
       "2      5.16161\n",
       "3      8.43823\n",
       "4      5.57201\n",
       "5    -11.13270\n",
       "6     -5.31226\n",
       "7     -4.63725\n",
       "8      3.80650\n",
       "9     -6.06084\n",
       "10     7.22328\n",
       "11     2.38887\n",
       "12    -7.13415\n",
       "13     2.00412\n",
       "14     4.29794\n",
       "15    -5.86553\n",
       "16    -5.20711\n",
       "17    -3.52863\n",
       "18   -10.16202\n",
       "19     5.31123\n",
       "Name: Var_Y, dtype: float64"
      ]
     },
     "execution_count": 17,
     "metadata": {},
     "output_type": "execute_result"
    }
   ],
   "source": [
    "y"
   ]
  },
  {
   "cell_type": "code",
   "execution_count": null,
   "metadata": {},
   "outputs": [],
   "source": []
  }
 ],
 "metadata": {
  "kernelspec": {
   "display_name": "Python 3",
   "language": "python",
   "name": "python3"
  },
  "language_info": {
   "codemirror_mode": {
    "name": "ipython",
    "version": 3
   },
   "file_extension": ".py",
   "mimetype": "text/x-python",
   "name": "python",
   "nbconvert_exporter": "python",
   "pygments_lexer": "ipython3",
   "version": "3.7.0"
  }
 },
 "nbformat": 4,
 "nbformat_minor": 1
}
